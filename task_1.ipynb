{
  "nbformat": 4,
  "nbformat_minor": 0,
  "metadata": {
    "colab": {
      "name": "task 1.ipynb",
      "provenance": [],
      "authorship_tag": "ABX9TyOqlCBW3Ch3C+kjKE1vKcvt",
      "include_colab_link": true
    },
    "kernelspec": {
      "name": "python3",
      "display_name": "Python 3"
    }
  },
  "cells": [
    {
      "cell_type": "markdown",
      "metadata": {
        "id": "view-in-github",
        "colab_type": "text"
      },
      "source": [
        "<a href=\"https://colab.research.google.com/github/Shivam3103/DS-world/blob/main/task_1.ipynb\" target=\"_parent\"><img src=\"https://colab.research.google.com/assets/colab-badge.svg\" alt=\"Open In Colab\"/></a>"
      ]
    },
    {
      "cell_type": "markdown",
      "metadata": {
        "id": "2yJxoSra0cVS"
      },
      "source": [
        "**johari shivam deepaak**"
      ]
    },
    {
      "cell_type": "markdown",
      "metadata": {
        "id": "FreVZ2KcueJ0"
      },
      "source": [
        "**IMPORTING** **THE** **LIBRARIES** "
      ]
    },
    {
      "cell_type": "code",
      "metadata": {
        "id": "wBMw9vqHVogn"
      },
      "source": [
        "import numpy as np\n",
        "import matplotlib.pyplot as plt\n",
        "import pandas as pd"
      ],
      "execution_count": null,
      "outputs": []
    },
    {
      "cell_type": "markdown",
      "metadata": {
        "id": "3CvQVbYmVa0M"
      },
      "source": [
        "**IMPORTING** **THE** **DATASET**"
      ]
    },
    {
      "cell_type": "code",
      "metadata": {
        "id": "1KSxtj2rWF2M"
      },
      "source": [
        "dataset = pd.read_csv('student_scores.csv')\n",
        "x = dataset.iloc[:,:-1].values\n",
        "y = dataset.iloc[:,-1].values"
      ],
      "execution_count": null,
      "outputs": []
    },
    {
      "cell_type": "code",
      "metadata": {
        "id": "h9T6zXdTYuH-",
        "outputId": "177dcdfd-b0df-48a9-eb27-6ed2842d9224",
        "colab": {
          "base_uri": "https://localhost:8080/"
        }
      },
      "source": [
        "print(x)"
      ],
      "execution_count": null,
      "outputs": [
        {
          "output_type": "stream",
          "text": [
            "[[2.5]\n",
            " [5.1]\n",
            " [3.2]\n",
            " [8.5]\n",
            " [3.5]\n",
            " [1.5]\n",
            " [9.2]\n",
            " [5.5]\n",
            " [8.3]\n",
            " [2.7]\n",
            " [7.7]\n",
            " [5.9]\n",
            " [4.5]\n",
            " [3.3]\n",
            " [1.1]\n",
            " [8.9]\n",
            " [2.5]\n",
            " [1.9]\n",
            " [6.1]\n",
            " [7.4]\n",
            " [2.7]\n",
            " [4.8]\n",
            " [3.8]\n",
            " [6.9]\n",
            " [7.8]]\n"
          ],
          "name": "stdout"
        }
      ]
    },
    {
      "cell_type": "code",
      "metadata": {
        "id": "2bMeyAX3YuOg",
        "outputId": "8a79f98b-0496-47a7-e678-be8f3e72a5f2",
        "colab": {
          "base_uri": "https://localhost:8080/"
        }
      },
      "source": [
        "print(y)"
      ],
      "execution_count": null,
      "outputs": [
        {
          "output_type": "stream",
          "text": [
            "[21 47 27 75 30 20 88 60 81 25 85 62 41 42 17 95 30 24 67 69 30 54 35 76\n",
            " 86]\n"
          ],
          "name": "stdout"
        }
      ]
    },
    {
      "cell_type": "markdown",
      "metadata": {
        "id": "JDKFx2kCVawn"
      },
      "source": [
        "**SPLITTING DATASET INTO TRAINING AND TEST SET**"
      ]
    },
    {
      "cell_type": "code",
      "metadata": {
        "id": "KH0y4uvbWIY0"
      },
      "source": [
        "from sklearn.model_selection import train_test_split\n",
        "x_train,x_test,y_train,y_test = train_test_split(x,y,test_size = 0.2,random_state = 0)"
      ],
      "execution_count": null,
      "outputs": []
    },
    {
      "cell_type": "markdown",
      "metadata": {
        "id": "5SZFdsikbez-"
      },
      "source": [
        "**training the simple linear regression model on the training set**"
      ]
    },
    {
      "cell_type": "code",
      "metadata": {
        "id": "BmWEUeb6b7R1",
        "outputId": "7d277b90-98f6-4b67-e596-7c6230fcc2c0",
        "colab": {
          "base_uri": "https://localhost:8080/"
        }
      },
      "source": [
        "from sklearn.linear_model import LinearRegression  \n",
        "regressor = LinearRegression()  \n",
        "regressor.fit(x_train, y_train)"
      ],
      "execution_count": null,
      "outputs": [
        {
          "output_type": "execute_result",
          "data": {
            "text/plain": [
              "LinearRegression(copy_X=True, fit_intercept=True, n_jobs=None, normalize=False)"
            ]
          },
          "metadata": {
            "tags": []
          },
          "execution_count": 6
        }
      ]
    },
    {
      "cell_type": "markdown",
      "metadata": {
        "id": "0OBjJ03vceIh"
      },
      "source": [
        "**predicting the test set results**"
      ]
    },
    {
      "cell_type": "code",
      "metadata": {
        "id": "lDYrgHSZckg3"
      },
      "source": [
        "y_pred = regressor.predict(x_test)"
      ],
      "execution_count": null,
      "outputs": []
    },
    {
      "cell_type": "markdown",
      "metadata": {
        "id": "-ZlBUzV6c-Re"
      },
      "source": [
        "**visualising the training set results**"
      ]
    },
    {
      "cell_type": "code",
      "metadata": {
        "id": "r6AeZdMmdSZP",
        "outputId": "bc167bfe-ffc7-4e64-b61a-bfd9b19218d5",
        "colab": {
          "base_uri": "https://localhost:8080/",
          "height": 265
        }
      },
      "source": [
        "plt.scatter(x_train,y_train,color = 'red')\n",
        "plt.plot(x_train,regressor.predict(x_train),color = 'blue')\n",
        "plt.show()"
      ],
      "execution_count": null,
      "outputs": [
        {
          "output_type": "display_data",
          "data": {
            "image/png": "[encoded data removed]",
            "text/plain": [
              "<Figure size 432x288 with 1 Axes>"
            ]
          },
          "metadata": {
            "tags": [],
            "needs_background": "light"
          }
        }
      ]
    },
    {
      "cell_type": "markdown",
      "metadata": {
        "id": "6dHZgjt9duGY"
      },
      "source": [
        "**visualising the test set results**"
      ]
    },
    {
      "cell_type": "code",
      "metadata": {
        "id": "vqBC0Ky1d291",
        "outputId": "ff52cb40-5842-4286-ed35-a1a0f3dbf98d",
        "colab": {
          "base_uri": "https://localhost:8080/",
          "height": 265
        }
      },
      "source": [
        "plt.scatter(x_test,y_test,color = 'red')\n",
        "plt.plot(x_train,regressor.predict(x_train),color = 'blue')\n",
        "plt.show()"
      ],
      "execution_count": null,
      "outputs": [
        {
          "output_type": "display_data",
          "data": {
            "image/png": "[encoded data removed]",
            "text/plain": [
              "<Figure size 432x288 with 1 Axes>"
            ]
          },
          "metadata": {
            "tags": [],
            "needs_background": "light"
          }
        }
      ]
    },
    {
      "cell_type": "markdown",
      "metadata": {
        "id": "ATaO2xb4jlef"
      },
      "source": [
        "**prediction**"
      ]
    },
    {
      "cell_type": "code",
      "metadata": {
        "id": "LlzrMJvGjqrK",
        "outputId": "c86aac3e-ac51-48c8-ec7b-024a416b5003",
        "colab": {
          "base_uri": "https://localhost:8080/"
        }
      },
      "source": [
        "regressor.predict([[9.25]])"
      ],
      "execution_count": null,
      "outputs": [
        {
          "output_type": "execute_result",
          "data": {
            "text/plain": [
              "array([93.69173249])"
            ]
          },
          "metadata": {
            "tags": []
          },
          "execution_count": 10
        }
      ]
    },
    {
      "cell_type": "markdown",
      "metadata": {
        "id": "WMA60aIJk7AD"
      },
      "source": [
        "**performance**"
      ]
    },
    {
      "cell_type": "code",
      "metadata": {
        "id": "5ZJN5T3RlBVf",
        "outputId": "f65d48c9-e41c-45f4-a281-fb3bdbd261a2",
        "colab": {
          "base_uri": "https://localhost:8080/"
        }
      },
      "source": [
        "from sklearn.metrics import r2_score\n",
        "r2_score(y_test,y_pred)\n"
      ],
      "execution_count": null,
      "outputs": [
        {
          "output_type": "execute_result",
          "data": {
            "text/plain": [
              "0.9454906892105354"
            ]
          },
          "metadata": {
            "tags": []
          },
          "execution_count": 11
        }
      ]
    }
  ]
}